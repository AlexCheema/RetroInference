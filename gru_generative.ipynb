{
 "cells": [
  {
   "cell_type": "code",
   "execution_count": 85,
   "metadata": {},
   "outputs": [],
   "source": [
    "import torch\n",
    "import torch.nn as nn\n",
    "import torch.optim as optim\n",
    "from torch.utils.data import Dataset, DataLoader\n",
    "import string\n",
    "from tqdm import tqdm\n",
    "import re\n",
    "\n",
    "# Define the model\n",
    "class GRUTextGenerator(nn.Module):\n",
    "    def __init__(self, vocab_size, embed_size, hidden_size):\n",
    "        super(GRUTextGenerator, self).__init__()\n",
    "        \n",
    "        self.vocab_size = vocab_size\n",
    "        self.embed_size = embed_size\n",
    "\n",
    "        self.embedding_ff = nn.Linear(vocab_size, embed_size, bias=False)\n",
    "        self.gru1 = nn.GRU(embed_size, hidden_size, 1, batch_first=True)\n",
    "        self.gru2 = nn.GRU(hidden_size, hidden_size, 1, batch_first=True)\n",
    "        self.fc = nn.Linear(hidden_size, vocab_size)\n",
    "\n",
    "    def forward(self, x, hidden=None):\n",
    "        # x: (batch_size, seq_length)\n",
    "        x = torch.nn.functional.one_hot(x, num_classes=self.vocab_size).float()\n",
    "        embedded = self.embedding_ff(x)\n",
    "        x, hidden = self.gru1(embedded, None)  # (batch_size, seq_length, hidden_size)\n",
    "        x, hidden = self.gru2(x, None)\n",
    "        logits = self.fc(x)  # (batch_size, seq_length, vocab_size)\n",
    "        return logits, hidden\n",
    "\n",
    "token_dict = {letter:i for letter,i in zip(string.ascii_lowercase, range(1,27))}\n",
    "token_dict[' '] = 0\n",
    "\n",
    "class TextDataset(Dataset):\n",
    "    def __init__(self, sentences, idx):\n",
    "        self.data = []\n",
    "\n",
    "        self.max_len = max([len(x) for x in sentences])\n",
    "\n",
    "        for sentence in sentences:\n",
    "            if len(sentence) > idx:\n",
    "                x = torch.tensor([token_dict[x] for x in sentence[:idx]], dtype=torch.int64, device=device)\n",
    "                y = torch.tensor(token_dict[sentence[idx]], dtype=torch.int64, device=device)\n",
    "                self.data.append((x, y))\n",
    "\n",
    "    def __len__(self):\n",
    "        return len(self.data)\n",
    "\n",
    "    def __getitem__(self, i):\n",
    "        return self.data[i]\n",
    "\n",
    "# Training loop\n",
    "def train(model, dataloaders, vocab_size, device, epochs=10, lr=0.001):\n",
    "    criterion = nn.CrossEntropyLoss()\n",
    "    optimizer = optim.Adam(model.parameters(), lr=lr)\n",
    "    \n",
    "    model.to(device)\n",
    "    model.train()\n",
    "    \n",
    "    for epoch in range(epochs):\n",
    "        for data_loader in dataloaders:\n",
    "            total_loss = 0\n",
    "            for _, (inputs, targets) in enumerate(data_loader, 0):\n",
    "                inputs, targets = inputs.to(device), targets.to(device)\n",
    "                optimizer.zero_grad()\n",
    "                \n",
    "                logits, _ = model(inputs)  # (batch_size, seq_length, vocab_size)\n",
    "                logits = logits[:, -1, :]\n",
    "                logits = logits.view(-1, vocab_size)  # Reshape for loss calculation\n",
    "                targets = targets.view(-1)  # Reshape to match logits\n",
    "                \n",
    "                loss = criterion(logits, targets)\n",
    "                loss.backward()\n",
    "                optimizer.step()\n",
    "                \n",
    "                total_loss += loss.item()\n",
    "        \n",
    "        print(f\"Epoch {epoch+1}/{epochs}, Loss: {total_loss / len(data_loader)}\")\n",
    "\n",
    "\n",
    "# Example hyperparameters\n",
    "vocab_size = 27  # a-z and a space character\n",
    "embed_size = 128\n",
    "hidden_size = 256\n",
    "batch_size = 64\n",
    "seq_length = 100\n",
    "device = torch.device('cuda' if torch.cuda.is_available() else 'cpu')\n",
    "\n",
    "# Create the model\n",
    "model = GRUTextGenerator(vocab_size, embed_size, hidden_size)\n",
    "\n"
   ]
  },
  {
   "cell_type": "code",
   "execution_count": 86,
   "metadata": {},
   "outputs": [
    {
     "name": "stderr",
     "output_type": "stream",
     "text": [
      "<>:5: SyntaxWarning: invalid escape sequence '\\W'\n",
      "<>:5: SyntaxWarning: invalid escape sequence '\\W'\n",
      "/var/folders/bm/yls2l36s0_x_nqfllg6dm5z80000gn/T/ipykernel_3455/2492895047.py:5: SyntaxWarning: invalid escape sequence '\\W'\n",
      "  sentences = [re.sub('\\W+', ' ', x.lower()).strip() for x in sentences]\n"
     ]
    }
   ],
   "source": [
    "# Placeholder: Replace with your own DataLoader\n",
    "sentences = []\n",
    "with open(\"sentences.txt\", 'r') as f:\n",
    "    sentences = f.readlines()\n",
    "sentences = [re.sub('\\W+', ' ', x.lower()).strip() for x in sentences]\n"
   ]
  },
  {
   "cell_type": "code",
   "execution_count": null,
   "metadata": {},
   "outputs": [
    {
     "name": "stdout",
     "output_type": "stream",
     "text": [
      "31\n",
      "44363\n",
      "3342\n"
     ]
    }
   ],
   "source": [
    "## Length of alphabet used\n",
    "print(len(list(set(''.join(sentences)))))\n",
    "\n",
    "## Number of unique words\n",
    "print(len(list(' '.join(sentences).split(' '))))\n",
    "print(len(list(set(' '.join(sentences).split(' ')))))\n",
    "\n"
   ]
  },
  {
   "cell_type": "code",
   "execution_count": 95,
   "metadata": {},
   "outputs": [],
   "source": [
    "import pandas as pd\n",
    "import matplotlib.pyplot as plt"
   ]
  },
  {
   "cell_type": "code",
   "execution_count": 97,
   "metadata": {},
   "outputs": [
    {
     "data": {
      "image/png": "[encoded data removed]",
      "text/plain": [
       "<Figure size 640x480 with 1 Axes>"
      ]
     },
     "metadata": {},
     "output_type": "display_data"
    }
   ],
   "source": [
    "plt.plot(pd.DataFrame(list(' '.join(sentences).split(' '))).value_counts().values)\n",
    "plt.yscale('log')"
   ]
  },
  {
   "cell_type": "code",
   "execution_count": null,
   "metadata": {},
   "outputs": [],
   "source": []
  },
  {
   "cell_type": "code",
   "execution_count": null,
   "metadata": {},
   "outputs": [],
   "source": [
    "map_dict = {x[0]:y for x,y in \n",
    "            pd.DataFrame(list(' '.join(sentences).split(' ')))\\\n",
    "                .value_counts().to_dict().items()}\n",
    "\n",
    "common_sentences = []\n",
    "\n",
    "for sentence in sentences:\n",
    "    good = True\n",
    "\n",
    "    for word in sentence.split(' '):\n",
    "        if map_dict[word] < 10:\n",
    "            good = False\n",
    "            break\n",
    "    \n",
    "    if good:\n",
    "        common_sentences.append(sentence)\n",
    "\n",
    "common_sentences = list(set(common_sentences))"
   ]
  },
  {
   "cell_type": "code",
   "execution_count": null,
   "metadata": {},
   "outputs": [],
   "source": [
    "common_sentences "
   ]
  },
  {
   "cell_type": "code",
   "execution_count": 112,
   "metadata": {},
   "outputs": [
    {
     "data": {
      "text/plain": [
       "3695"
      ]
     },
     "execution_count": 112,
     "metadata": {},
     "output_type": "execute_result"
    }
   ],
   "source": [
    "len(common_sentences)"
   ]
  },
  {
   "cell_type": "code",
   "execution_count": null,
   "metadata": {},
   "outputs": [],
   "source": [
    "\n",
    "dataloaders = []\n",
    "for i in range(1, max([len(x) for x in sentences])):\n",
    "    dataset = TextDataset(sentences, i)\n",
    "    dataloaders.append(DataLoader(dataset, batch_size))\n",
    "\n",
    "# Example training call\n",
    "train(model, dataloaders, vocab_size, device)"
   ]
  },
  {
   "cell_type": "code",
   "execution_count": 58,
   "metadata": {},
   "outputs": [],
   "source": [
    "def vectorise(sentence):\n",
    "    return torch.tensor([token_dict[x] for x in sentence], dtype=torch.int64, device=device)\n",
    "\n",
    "def run_inference(model, sentence):\n",
    "    input = vectorise(sentence)\n",
    "\n",
    "    output = model(input)\n",
    "\n",
    "    logits = output[0][-1,:]\n",
    "\n",
    "    print(logits)\n",
    "\n",
    "    max_idx = logits.argmax().item()\n",
    "    for a, i in token_dict.items():\n",
    "        if max_idx == i:\n",
    "            sentence += a\n",
    "            return sentence\n",
    "    \n",
    "    print(max_idx)\n",
    "\n",
    "\n",
    "\n",
    "sentence = 'a dog ru'"
   ]
  },
  {
   "cell_type": "code",
   "execution_count": 54,
   "metadata": {},
   "outputs": [
    {
     "name": "stdout",
     "output_type": "stream",
     "text": [
      "tensor([-2.9654e+00,  3.3953e+00, -1.4307e+00, -4.1284e-01, -7.9363e-01,\n",
      "        -5.2193e-01, -5.8328e+00,  2.0428e-01, -9.2972e+00, -1.4741e+00,\n",
      "        -5.2937e-01,  4.0453e+00,  4.3836e+00,  6.6509e+00,  2.0651e+01,\n",
      "        -7.7552e-01,  3.2460e+00, -6.7695e+00, -3.4690e-01,  4.6739e+00,\n",
      "         5.1691e+00,  6.9649e-01, -2.1370e+00, -1.7458e-02, -6.3181e+00,\n",
      "         2.6114e+00, -6.0107e+00], grad_fn=<SliceBackward0>)\n",
      "a dog run\n"
     ]
    }
   ],
   "source": [
    "for i in range(12):\n",
    "    sentence = run_inference(model, sentence)\n",
    "    print(sentence)\n",
    "    break"
   ]
  },
  {
   "cell_type": "code",
   "execution_count": 59,
   "metadata": {},
   "outputs": [],
   "source": [
    "import numpy as np\n",
    "import json\n",
    "from json import JSONEncoder\n"
   ]
  },
  {
   "cell_type": "code",
   "execution_count": 60,
   "metadata": {},
   "outputs": [],
   "source": [
    "class EncodeTensor(JSONEncoder,Dataset):\n",
    "    def default(self, obj):\n",
    "        if isinstance(obj, torch.Tensor):\n",
    "            return obj.cpu().detach().numpy().tolist()\n",
    "        return super(json.NpEncoder, self).default(obj)\n"
   ]
  },
  {
   "cell_type": "code",
   "execution_count": 61,
   "metadata": {},
   "outputs": [],
   "source": [
    "x = vectorise(sentence)\n",
    "y = model(x)[0]\n",
    "\n",
    "np.savetxt('test_data/generative_gru_x.csv', x.detach(), delimiter=',')\n",
    "np.savetxt('test_data/generative_gru_y.csv', y.detach(), delimiter=',')\n",
    "\n",
    "with open('models/generative_gru.json', 'w') as json_file:\n",
    "    json.dump(model.state_dict(), json_file,cls=EncodeTensor)\n"
   ]
  },
  {
   "cell_type": "code",
   "execution_count": null,
   "metadata": {},
   "outputs": [],
   "source": []
  },
  {
   "cell_type": "code",
   "execution_count": null,
   "metadata": {},
   "outputs": [],
   "source": []
  }
 ],
 "metadata": {
  "kernelspec": {
   "display_name": "base",
   "language": "python",
   "name": "python3"
  },
  "language_info": {
   "codemirror_mode": {
    "name": "ipython",
    "version": 3
   },
   "file_extension": ".py",
   "mimetype": "text/x-python",
   "name": "python",
   "nbconvert_exporter": "python",
   "pygments_lexer": "ipython3",
   "version": "3.12.7"
  }
 },
 "nbformat": 4,
 "nbformat_minor": 2
}
