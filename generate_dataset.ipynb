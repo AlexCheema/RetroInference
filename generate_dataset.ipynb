{
 "cells": [
  {
   "cell_type": "code",
   "execution_count": 1,
   "metadata": {},
   "outputs": [],
   "source": [
    "import pandas as pd\n",
    "import random\n",
    "import json\n",
    "import re\n",
    "\n",
    "import google.generativeai as genai\n",
    "from openai import OpenAI\n",
    "from dotenv import load_dotenv\n",
    "import os\n",
    "\n",
    "from tqdm import tqdm"
   ]
  },
  {
   "cell_type": "code",
   "execution_count": 2,
   "metadata": {},
   "outputs": [],
   "source": [
    "load_dotenv()\n",
    "openai_key = os.getenv(\"OPENAI_API_KEY\")"
   ]
  },
  {
   "cell_type": "code",
   "execution_count": 3,
   "metadata": {},
   "outputs": [],
   "source": [
    "import openai\n",
    "\n",
    "def prompt_model(system_prompt, message, sample_prompt=None, sample_answer=None, model_name='gpt-4'):\n",
    "    client = OpenAI(api_key=openai_key)\n",
    "    completion = client.chat.completions.create(\n",
    "        model=\"gpt-4o-mini\",\n",
    "        messages=[\n",
    "            {\"role\":\"system\", \"content\": system_prompt},\n",
    "            {\"role\": \"user\", \"content\": message}\n",
    "        ],\n",
    "        response_format={\n",
    "            \"type\":\"json_object\"\n",
    "        },\n",
    "        temperature=0.6\n",
    "    )\n",
    "    \n",
    "    return completion.choices[0].message.content\n",
    "\n",
    "def clean_sentences(response):\n",
    "    json_content = response\n",
    "\n",
    "    json_str = json_content[json_content.index('['):len(json_content) - json_content[::-1].index(']')]\n",
    "    cleaned_json_str = re.sub(r',\\s*([\\]}])', r'\\1', json_str)\n",
    "\n",
    "    try:\n",
    "        json_obj = json.loads(cleaned_json_str)\n",
    "    except json.JSONDecodeError as e:\n",
    "        json_obj = json.loads(cleaned_json_str) \n",
    "\n",
    "    return json_obj\n"
   ]
  },
  {
   "cell_type": "code",
   "execution_count": 4,
   "metadata": {},
   "outputs": [],
   "source": [
    "\n",
    "system_prompt = 'You are a helpful chat assistant ready to carry out the user\\'s requests.'\n",
    "user_prompt = 'You are helping me to generate a dataset for training very very small language models.' + \\\n",
    "             'Please can you generate 50 sentences that are no more than 10 words each, with very very simple grammar and using only VERY SIMPLE words - restrict to the 500 most common english words.' + \\\n",
    "             'The theme of the sentences is: {}. I\\'d like the output to be in the format of a JSON list of strings.'"
   ]
  },
  {
   "cell_type": "code",
   "execution_count": 5,
   "metadata": {},
   "outputs": [],
   "source": [
    "themes = [\n",
    "    \"children\", \"weather\", \"fun\", \"animals\", \"food\", \"sports\", \"friendship\", \"family\", \"nature\", \"colors\",\n",
    "    \"hobbies\", \"travel\", \"music\", \"love\", \"work\", \"technology\", \"dreams\", \"learning\", \"health\", \"adventure\",\n",
    "    \"art\", \"school\", \"emotions\", \"seasons\", \"flowers\", \"computers\", \"ocean\", \"festivals\", \"books\", \"movies\",\n",
    "    \"holidays\", \"games\", \"clothes\", \"time\", \"plants\", \"cities\", \"mountains\", \"cars\", \"shopping\", \"memories\",\n",
    "    \"houses\", \"neighbors\", \"language\", \"history\", \"insects\", \"wildlife\", \"gardens\", \"streets\", \"festivities\", \"stories\"\n",
    "]\n"
   ]
  },
  {
   "cell_type": "code",
   "execution_count": 9,
   "metadata": {},
   "outputs": [
    {
     "name": "stderr",
     "output_type": "stream",
     "text": [
      "100%|██████████| 23/23 [16:09<00:00, 42.15s/it]\n"
     ]
    }
   ],
   "source": [
    "for theme in tqdm(themes[27:]):\n",
    "    for i in range(5):\n",
    "        response = prompt_model(system_prompt, user_prompt.format(theme))\n",
    "        sentences = clean_sentences(response)\n",
    "        with open('sentences.txt', 'a') as f:\n",
    "            for sentence in sentences:\n",
    "                f.write(sentence + '\\n')\n"
   ]
  },
  {
   "cell_type": "code",
   "execution_count": null,
   "metadata": {},
   "outputs": [],
   "source": []
  },
  {
   "cell_type": "code",
   "execution_count": null,
   "metadata": {},
   "outputs": [],
   "source": [
    "sentences = clean_sentences(response)"
   ]
  },
  {
   "cell_type": "code",
   "execution_count": null,
   "metadata": {},
   "outputs": [],
   "source": [
    "with open('sentences.txt', 'a') as f:\n",
    "    for sentence in sentences:\n",
    "        f.write(sentence + '\\n')"
   ]
  },
  {
   "cell_type": "code",
   "execution_count": null,
   "metadata": {},
   "outputs": [],
   "source": []
  }
 ],
 "metadata": {
  "kernelspec": {
   "display_name": "base",
   "language": "python",
   "name": "python3"
  },
  "language_info": {
   "codemirror_mode": {
    "name": "ipython",
    "version": 3
   },
   "file_extension": ".py",
   "mimetype": "text/x-python",
   "name": "python",
   "nbconvert_exporter": "python",
   "pygments_lexer": "ipython3",
   "version": "3.12.7"
  }
 },
 "nbformat": 4,
 "nbformat_minor": 2
}
